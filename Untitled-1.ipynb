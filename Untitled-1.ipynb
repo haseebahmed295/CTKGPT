{
 "cells": [
  {
   "cell_type": "code",
   "execution_count": 2,
   "metadata": {},
   "outputs": [
    {
     "ename": "AttributeError",
     "evalue": "'NoneType' object has no attribute 'set'",
     "output_type": "error",
     "traceback": [
      "\u001b[1;31m---------------------------------------------------------------------------\u001b[0m",
      "\u001b[1;31mAttributeError\u001b[0m                            Traceback (most recent call last)",
      "Cell \u001b[1;32mIn[2], line 5\u001b[0m\n\u001b[0;32m      2\u001b[0m app \u001b[39m=\u001b[39m customtkinter\u001b[39m.\u001b[39mCTk()\n\u001b[0;32m      4\u001b[0m progressbar \u001b[39m=\u001b[39m customtkinter\u001b[39m.\u001b[39mCTkProgressBar(app, orientation\u001b[39m=\u001b[39m\u001b[39m\"\u001b[39m\u001b[39mhorizontal\u001b[39m\u001b[39m\"\u001b[39m)\u001b[39m.\u001b[39mgrid(row\u001b[39m=\u001b[39m\u001b[39m1\u001b[39m, column\u001b[39m=\u001b[39m\u001b[39m0\u001b[39m, padx\u001b[39m=\u001b[39m\u001b[39m20\u001b[39m, pady\u001b[39m=\u001b[39m\u001b[39m20\u001b[39m)\n\u001b[1;32m----> 5\u001b[0m progressbar\u001b[39m.\u001b[39;49mset(\u001b[39m1\u001b[39m)\n\u001b[0;32m      7\u001b[0m customtkinter\u001b[39m.\u001b[39mset_appearance_mode(\u001b[39m\"\u001b[39m\u001b[39mdark\u001b[39m\u001b[39m\"\u001b[39m)\n\u001b[0;32m      8\u001b[0m app\u001b[39m.\u001b[39mmainloop()\n",
      "\u001b[1;31mAttributeError\u001b[0m: 'NoneType' object has no attribute 'set'"
     ]
    }
   ],
   "source": [
    "import customtkinter\n",
    "app = customtkinter.CTk()\n",
    "\n",
    "progressbar = customtkinter.CTkProgressBar(app, orientation=\"horizontal\")\n",
    "progressbar.grid(row=1, column=0, padx=20, pady=20)\n",
    "progressbar.set(0.5)\n",
    "\n",
    "\n",
    "customtkinter.set_appearance_mode(\"dark\")\n",
    "app.mainloop()"
   ]
  }
 ],
 "metadata": {
  "kernelspec": {
   "display_name": "Python 3",
   "language": "python",
   "name": "python3"
  },
  "language_info": {
   "codemirror_mode": {
    "name": "ipython",
    "version": 3
   },
   "file_extension": ".py",
   "mimetype": "text/x-python",
   "name": "python",
   "nbconvert_exporter": "python",
   "pygments_lexer": "ipython3",
   "version": "3.11.2"
  },
  "orig_nbformat": 4
 },
 "nbformat": 4,
 "nbformat_minor": 2
}
